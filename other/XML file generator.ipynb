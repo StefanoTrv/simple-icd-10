{
 "cells": [
  {
   "cell_type": "code",
   "execution_count": 1,
   "id": "b7c1afdc",
   "metadata": {},
   "outputs": [],
   "source": [
    "import simple_icd_10 as icd"
   ]
  },
  {
   "cell_type": "code",
   "execution_count": 2,
   "id": "b800a84f",
   "metadata": {},
   "outputs": [],
   "source": [
    "chapter_list = [\"I\",\"II\",\"III\",\"IV\",\"V\",\"VI\",\"VII\",\"VII\",\"VIII\",\"IX\",\"X\",\"XI\",\"XII\",\"XIII\",\"XIV\",\"XV\",\"XVI\",\"XVII\",\"XVIII\",\"XIX\",\"XX\",\"XXI\",\"XXII\"]"
   ]
  },
  {
   "cell_type": "code",
   "execution_count": 3,
   "id": "1a177147",
   "metadata": {},
   "outputs": [],
   "source": [
    "def to_xml(item):\n",
    "    result = \"<item type=\\\"\"+get_type(item)+\"\\\">\"+\"\\n\\t<name>\"+icd.add_dot(item)+\"</name>\\n\\t<description>\"+icd.get_description(item)+\"</description>\"\n",
    "    for child in icd.get_children(item):\n",
    "        result = result + add_tabulation(to_xml(child))\n",
    "    result = result +\"\\n</item>\"\n",
    "    return result\n",
    "\n",
    "\n",
    "def get_type(item):\n",
    "    if icd.is_chapter(item):\n",
    "        return \"chapter\"\n",
    "    elif icd.is_block(item):\n",
    "        return \"block\"\n",
    "    elif icd.is_category(item):\n",
    "        return \"category\"\n",
    "    else:\n",
    "        return \"subcategory\"\n",
    "\n",
    "def add_tabulation(string):\n",
    "    result = \"\"\n",
    "    for line in string.splitlines():\n",
    "        result = result +\"\\n\\t\" + line\n",
    "    return result"
   ]
  },
  {
   "cell_type": "code",
   "execution_count": 4,
   "id": "433469f0",
   "metadata": {},
   "outputs": [],
   "source": [
    "XML_output= \"\"\n",
    "for chapter in chapter_list:\n",
    "    XML_output=XML_output+\"\\n\"+to_xml(chapter)"
   ]
  },
  {
   "cell_type": "code",
   "execution_count": 5,
   "id": "f7164d24",
   "metadata": {},
   "outputs": [],
   "source": [
    "f = open(\"icd_10_v2019.xml\", \"w\")\n",
    "f.write(XML_output)\n",
    "f.close()"
   ]
  }
 ],
 "metadata": {
  "kernelspec": {
   "display_name": "Python 3",
   "language": "python",
   "name": "python3"
  },
  "language_info": {
   "codemirror_mode": {
    "name": "ipython",
    "version": 3
   },
   "file_extension": ".py",
   "mimetype": "text/x-python",
   "name": "python",
   "nbconvert_exporter": "python",
   "pygments_lexer": "ipython3",
   "version": "3.8.10"
  }
 },
 "nbformat": 4,
 "nbformat_minor": 5
}
