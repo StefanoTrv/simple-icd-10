{
 "cells": [
  {
   "cell_type": "markdown",
   "metadata": {},
   "source": [
    "# Showcase notebook\n",
    "In this Jupyter Notebook we will explore the functionalities of the simple_icd_10 library. This is intended as an interactive introduction to this module, refer to the README.md file for the official documentation. There you can also find more accurate details about the assumptions that were made and other useful considerations.  \n",
    "The only thing that we will repeat here is the format of the codes, to be precise of the codes for the subcategories. The functions in this library will accept as input subcategory codes both with or without the dot (for example, \"J21.0\" and \"J210\" are both acceptable ways to write the same code). The codes that are returned by the functions are always without the dot: if you prefer the representation with the dot, it should be rather easy to add it again where needed.\n",
    "\n",
    "First of all, let's import the module using a shorter alias."
   ]
  },
  {
   "cell_type": "code",
   "execution_count": 1,
   "metadata": {},
   "outputs": [],
   "source": [
    "import simple_icd_10 as icd"
   ]
  },
  {
   "cell_type": "markdown",
   "metadata": {},
   "source": [
    "We can use `icd.is_valid_item` to check wether a string is a valid chapter name, block, category or subcategory in ICD-10."
   ]
  },
  {
   "cell_type": "code",
   "execution_count": 2,
   "metadata": {},
   "outputs": [],
   "source": [
    "print(\"dinosaur:\\t\"+str(icd.is_valid_item(\"dinosaur\")))\n",
    "print(\"     XII:\\t\"+str(icd.is_valid_item(\"XII\")))\n",
    "print(\" G10-G14:\\t\"+str(icd.is_valid_item(\"G10-G14\")))\n",
    "print(\"     C00:\\t\"+str(icd.is_valid_item(\"C00\")))\n",
    "print(\"   H60.1:\\t\"+str(icd.is_valid_item(\"H60.1\")))"
   ]
  },
  {
   "cell_type": "markdown",
   "metadata": {},
   "source": [
    "`icd.is_valid_code` is the same but restricted to only categories and subcategories."
   ]
  },
  {
   "cell_type": "code",
   "execution_count": 3,
   "metadata": {},
   "outputs": [],
   "source": [
    "print(\"dinosaur:\\t\"+str(icd.is_valid_code(\"dinosaur\")))\n",
    "print(\"     XII:\\t\"+str(icd.is_valid_code(\"XII\")))\n",
    "print(\" G10-G14:\\t\"+str(icd.is_valid_code(\"G10-G14\")))\n",
    "print(\"     C00:\\t\"+str(icd.is_valid_code(\"C00\")))\n",
    "print(\"   H60.1:\\t\"+str(icd.is_valid_code(\"H60.1\")))"
   ]
  },
  {
   "cell_type": "markdown",
   "metadata": {},
   "source": [
    "`icd.is_chapter_or_block` is again the same but restricted to only chapters and blocks."
   ]
  },
  {
   "cell_type": "code",
   "execution_count": 4,
   "metadata": {},
   "outputs": [],
   "source": [
    "print(\"dinosaur:\\t\"+str(icd.is_chapter_or_block(\"dinosaur\")))\n",
    "print(\"     XII:\\t\"+str(icd.is_chapter_or_block(\"XII\")))\n",
    "print(\" G10-G14:\\t\"+str(icd.is_chapter_or_block(\"G10-G14\")))\n",
    "print(\"     C00:\\t\"+str(icd.is_chapter_or_block(\"C00\")))\n",
    "print(\"   H60.1:\\t\"+str(icd.is_chapter_or_block(\"H60.1\")))"
   ]
  },
  {
   "cell_type": "markdown",
   "metadata": {},
   "source": [
    "All the following functions will raise a `ValueError` if they receive as input a string that is not a valid ICD-10 item (chapter, block, category or subcategory).\n",
    "\n",
    "With `icd.get_descriptions` we can get the descriptions of the codes."
   ]
  },
  {
   "cell_type": "code",
   "execution_count": 5,
   "metadata": {},
   "outputs": [],
   "source": [
    "print(\"     XII:\\t\"+icd.get_description(\"XII\"))\n",
    "print(\" G10-G14:\\t\"+icd.get_description(\"G10-G14\"))\n",
    "print(\"     C00:\\t\"+icd.get_description(\"C00\"))\n",
    "print(\"   H60.1:\\t\"+icd.get_description(\"H60.1\"))"
   ]
  },
  {
   "cell_type": "markdown",
   "metadata": {},
   "source": [
    "We can get all the descendants of a code by using `icd.get_descendants`. While the results are usually ordered, this isn't always the case."
   ]
  },
  {
   "cell_type": "code",
   "execution_count": 6,
   "metadata": {},
   "outputs": [],
   "source": [
    "print(\"XII:\\n\"+str(icd.get_descendants(\"XII\"))+\"\\n\")\n",
    "print(\"G10-G14:\\n\"+str(icd.get_descendants(\"G10-G14\"))+\"\\n\")\n",
    "print(\"C00:\\n\"+str(icd.get_descendants(\"C00\"))+\"\\n\")\n",
    "print(\"H60.1:\\n\"+str(icd.get_descendants(\"H60.1\"))+\"\\n\")"
   ]
  },
  {
   "cell_type": "markdown",
   "metadata": {},
   "source": [
    "With `icd.get_ancestors` we can get all the ancestors of a code, ordered from the parent to the root (which will be the chapter)."
   ]
  },
  {
   "cell_type": "code",
   "execution_count": 7,
   "metadata": {},
   "outputs": [
    {
     "name": "stdout",
     "output_type": "stream",
     "text": [
      "C00:\n",
      "['C00-C14', 'C00-C75', 'C00-C97', 'II']\n",
      "\n",
      "H60.1:\n",
      "['H60', 'H60-H62', 'VIII']\n",
      "\n"
     ]
    }
   ],
   "source": [
    "print(\"XII:\\n\"+str(icd.get_ancestors(\"XII\"))+\"\\n\")\n",
    "print(\"G10-G14:\\n\"+str(icd.get_ancestors(\"G10-G14\"))+\"\\n\")\n",
    "print(\"C00:\\n\"+str(icd.get_ancestors(\"C00\"))+\"\\n\")\n",
    "print(\"H60.1:\\n\"+str(icd.get_ancestors(\"H60.1\"))+\"\\n\")"
   ]
  },
  {
   "cell_type": "markdown",
   "metadata": {},
   "source": [
    "We can use `icd.is_descendant` to check wether a code is a descentants of another code and `icd.is_ancestor` to check wether a node is an ancestor of another code. Notice how these two functions behave the same when their parameters are switched."
   ]
  },
  {
   "cell_type": "code",
   "execution_count": 8,
   "metadata": {},
   "outputs": [
    {
     "name": "stdout",
     "output_type": "stream",
     "text": [
      "H60.1 and H60-H62:\n",
      "icd.is_descendant(\"H60.1\",\"H60-H62\"):\tTrue\n",
      "icd.is_ancestor(\"H60.1\",\"H60-H62\"):\tFalse\n",
      "\n",
      "H60-H62 and H60.1:\n",
      "icd.is_descendant(\"H60-H62\",\"H60.1\"):\tFalse\n",
      "icd.is_ancestor(\"H60-H62\",\"H60.1\"):\tTrue\n",
      "\n"
     ]
    }
   ],
   "source": [
    "print(\"H60.1 and H60-H62:\")\n",
    "print(\"icd.is_descendant(\\\"H60.1\\\",\\\"H60-H62\\\"):\\t\"+str(icd.is_descendant(\"H60.1\",\"H60-H62\")))\n",
    "print(\"icd.is_ancestor(\\\"H60.1\\\",\\\"H60-H62\\\"):\\t\"+str(icd.is_ancestor(\"H60.1\",\"H60-H62\"))+\"\\n\")\n",
    "\n",
    "print(\"H60-H62 and H60.1:\")\n",
    "print(\"icd.is_descendant(\\\"H60-H62\\\",\\\"H60.1\\\"):\\t\"+str(icd.is_descendant(\"H60-H62\",\"H60.1\")))\n",
    "print(\"icd.is_ancestor(\\\"H60-H62\\\",\\\"H60.1\\\"):\\t\"+str(icd.is_ancestor(\"H60-H62\",\"H60.1\"))+\"\\n\")"
   ]
  },
  {
   "cell_type": "markdown",
   "metadata": {},
   "source": [
    "A code is never its own ancestor or descendant:"
   ]
  },
  {
   "cell_type": "code",
   "execution_count": 9,
   "metadata": {},
   "outputs": [
    {
     "name": "stdout",
     "output_type": "stream",
     "text": [
      "E15-E16 and E15-E16:\n",
      "icd.is_descendant(\"E15-E16\",\"E15-E16\"):\tFalse\n",
      "icd.is_ancestor(\"E15-E16\",\"E15-E16\"):\tFalse\n",
      "\n"
     ]
    }
   ],
   "source": [
    "print(\"E15-E16 and E15-E16:\")\n",
    "print(\"icd.is_descendant(\\\"E15-E16\\\",\\\"E15-E16\\\"):\\t\"+str(icd.is_descendant(\"E15-E16\",\"E15-E16\")))\n",
    "print(\"icd.is_ancestor(\\\"E15-E16\\\",\\\"E15-E16\\\"):\\t\"+str(icd.is_ancestor(\"E15-E16\",\"E15-E16\"))+\"\\n\")"
   ]
  },
  {
   "cell_type": "markdown",
   "metadata": {},
   "source": [
    "If we need, for some reason, the list of all the codes, we can get it by using `icd.get_all_codes`. By passing `True` to this function, the codes returned will be in the format with the dots, by passing `False` to it, the codes will be in the format without dots."
   ]
  },
  {
   "cell_type": "code",
   "execution_count": 10,
   "metadata": {},
   "outputs": [
    {
     "data": {
      "text/plain": [
       "['I',\n",
       " 'A00-A09',\n",
       " 'A00',\n",
       " 'A00.0',\n",
       " 'A00.1',\n",
       " 'A00.9',\n",
       " 'A01',\n",
       " 'A01.0',\n",
       " 'A01.1',\n",
       " 'A01.2',\n",
       " 'A01.3',\n",
       " 'A01.4',\n",
       " 'A02',\n",
       " 'A02.0',\n",
       " 'A02.1']"
      ]
     },
     "execution_count": 10,
     "metadata": {},
     "output_type": "execute_result"
    }
   ],
   "source": [
    "icd.get_all_codes(True)[:15]"
   ]
  },
  {
   "cell_type": "code",
   "execution_count": 11,
   "metadata": {},
   "outputs": [
    {
     "data": {
      "text/plain": [
       "['I',\n",
       " 'A00-A09',\n",
       " 'A00',\n",
       " 'A000',\n",
       " 'A001',\n",
       " 'A009',\n",
       " 'A01',\n",
       " 'A010',\n",
       " 'A011',\n",
       " 'A012',\n",
       " 'A013',\n",
       " 'A014',\n",
       " 'A02',\n",
       " 'A020',\n",
       " 'A021']"
      ]
     },
     "execution_count": 11,
     "metadata": {},
     "output_type": "execute_result"
    }
   ],
   "source": [
    "icd.get_all_codes(False)[:15]"
   ]
  },
  {
   "cell_type": "markdown",
   "metadata": {},
   "source": [
    "From here, it's really easy to only keep the codes for categories and subcategories, if we only want those."
   ]
  },
  {
   "cell_type": "code",
   "execution_count": 12,
   "metadata": {},
   "outputs": [
    {
     "data": {
      "text/plain": [
       "['A00',\n",
       " 'A000',\n",
       " 'A001',\n",
       " 'A009',\n",
       " 'A01',\n",
       " 'A010',\n",
       " 'A011',\n",
       " 'A012',\n",
       " 'A013',\n",
       " 'A014',\n",
       " 'A02',\n",
       " 'A020',\n",
       " 'A021',\n",
       " 'A022',\n",
       " 'A028']"
      ]
     },
     "execution_count": 12,
     "metadata": {},
     "output_type": "execute_result"
    }
   ],
   "source": [
    "[code for code in icd.get_all_codes(False) if not icd.is_chapter_or_block(code)][:15]"
   ]
  },
  {
   "cell_type": "markdown",
   "metadata": {},
   "source": [
    "We can use `icd.get_index` to get the index of a code in the list returned by `icd.get_all_codes`."
   ]
  },
  {
   "cell_type": "code",
   "execution_count": 13,
   "metadata": {},
   "outputs": [
    {
     "data": {
      "text/plain": [
       "7159"
      ]
     },
     "execution_count": 13,
     "metadata": {},
     "output_type": "execute_result"
    }
   ],
   "source": [
    "icd.get_index(\"P00\")"
   ]
  },
  {
   "cell_type": "code",
   "execution_count": 14,
   "metadata": {},
   "outputs": [
    {
     "data": {
      "text/plain": [
       "'P00'"
      ]
     },
     "execution_count": 14,
     "metadata": {},
     "output_type": "execute_result"
    }
   ],
   "source": [
    "icd.get_all_codes(True)[7159]"
   ]
  },
  {
   "cell_type": "code",
   "execution_count": 15,
   "metadata": {},
   "outputs": [
    {
     "data": {
      "text/plain": [
       "'Fetus and newborn affected by maternal conditions that may be unrelated to present pregnancy'"
      ]
     },
     "execution_count": 15,
     "metadata": {},
     "output_type": "execute_result"
    }
   ],
   "source": [
    "icd.get_description(icd.get_all_codes(True)[7159])"
   ]
  }
 ],
 "metadata": {
  "kernelspec": {
   "display_name": "Python 3",
   "language": "python",
   "name": "python3"
  },
  "language_info": {
   "codemirror_mode": {
    "name": "ipython",
    "version": 3
   },
   "file_extension": ".py",
   "mimetype": "text/x-python",
   "name": "python",
   "nbconvert_exporter": "python",
   "pygments_lexer": "ipython3",
   "version": "3.8.5"
  }
 },
 "nbformat": 4,
 "nbformat_minor": 4
}
