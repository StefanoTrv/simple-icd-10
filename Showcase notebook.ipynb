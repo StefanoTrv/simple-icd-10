{
 "cells": [
  {
   "cell_type": "markdown",
   "metadata": {},
   "source": [
    "# Showcase notebook\n",
    "In this Jupyter Notebook we will explore the functionalities of the simple_icd_10 library. This is intended as an interactive introduction to this module, refer to the README.md file for the official documentation. There you can also find more accurate details about the assumptions that were made and other useful considerations.  \n",
    "The only thing that we will repeat here is the format of the codes, to be precise of the codes for the subcategories. The functions in this library will accept as input subcategory codes both with or without the dot (for example, \"J21.0\" and \"J210\" are both acceptable ways to write the same code). The codes that are returned by the functions are always without the dot: if you prefer the representation with the dot, it should be rather easy to add it again where needed.\n",
    "\n",
    "First of all, let's import the module using a shorter alias."
   ]
  },
  {
   "cell_type": "code",
   "execution_count": 1,
   "metadata": {},
   "outputs": [],
   "source": [
    "import simple_icd_10 as icd"
   ]
  },
  {
   "cell_type": "markdown",
   "metadata": {},
   "source": [
    "We can use `icd.is_valid_item` to check wether a string is a valid chapter name, block, category or subcategory in ICD-10."
   ]
  },
  {
   "cell_type": "code",
   "execution_count": 2,
   "metadata": {},
   "outputs": [],
   "source": [
    "print(\"dinosaur:\\t\"+str(icd.is_valid_item(\"dinosaur\")))\n",
    "print(\"     XII:\\t\"+str(icd.is_valid_item(\"XII\")))\n",
    "print(\" G10-G14:\\t\"+str(icd.is_valid_item(\"G10-G14\")))\n",
    "print(\"     C00:\\t\"+str(icd.is_valid_item(\"C00\")))\n",
    "print(\"   H60.1:\\t\"+str(icd.is_valid_item(\"H60.1\")))"
   ]
  },
  {
   "cell_type": "markdown",
   "metadata": {},
   "source": [
    "`icd.is_valid_code` is the same but restricted to only categories and subcategories."
   ]
  },
  {
   "cell_type": "code",
   "execution_count": 3,
   "metadata": {},
   "outputs": [
    {
     "name": "stdout",
     "output_type": "stream",
     "text": [
      "dinosaur:\tFalse\n",
      "     XII:\tFalse\n",
      " G10-G14:\tFalse\n",
      "     C00:\tTrue\n",
      "   H60.1:\tTrue\n"
     ]
    }
   ],
   "source": [
    "print(\"dinosaur:\\t\"+str(icd.is_valid_code(\"dinosaur\")))\n",
    "print(\"     XII:\\t\"+str(icd.is_valid_code(\"XII\")))\n",
    "print(\" G10-G14:\\t\"+str(icd.is_valid_code(\"G10-G14\")))\n",
    "print(\"     C00:\\t\"+str(icd.is_valid_code(\"C00\")))\n",
    "print(\"   H60.1:\\t\"+str(icd.is_valid_code(\"H60.1\")))"
   ]
  },
  {
   "cell_type": "markdown",
   "metadata": {},
   "source": [
    "`icd.is_chapter_or_block` is again the same but restricted to only chapters and blocks."
   ]
  },
  {
   "cell_type": "code",
   "execution_count": 4,
   "metadata": {},
   "outputs": [
    {
     "name": "stdout",
     "output_type": "stream",
     "text": [
      "dinosaur:\tFalse\n",
      "     XII:\tTrue\n",
      " G10-G14:\tTrue\n",
      "     C00:\tFalse\n",
      "   H60.1:\tFalse\n"
     ]
    }
   ],
   "source": [
    "print(\"dinosaur:\\t\"+str(icd.is_chapter_or_block(\"dinosaur\")))\n",
    "print(\"     XII:\\t\"+str(icd.is_chapter_or_block(\"XII\")))\n",
    "print(\" G10-G14:\\t\"+str(icd.is_chapter_or_block(\"G10-G14\")))\n",
    "print(\"     C00:\\t\"+str(icd.is_chapter_or_block(\"C00\")))\n",
    "print(\"   H60.1:\\t\"+str(icd.is_chapter_or_block(\"H60.1\")))"
   ]
  },
  {
   "cell_type": "markdown",
   "metadata": {},
   "source": [
    "All the following functions will raise a `ValueError` if they receive as input a string that is not a valid ICD-10 item (chapter, block, category or subcategory).\n",
    "\n",
    "With `icd.get_descriptions` we can get the descriptions of the codes."
   ]
  },
  {
   "cell_type": "code",
   "execution_count": 5,
   "metadata": {},
   "outputs": [
    {
     "name": "stdout",
     "output_type": "stream",
     "text": [
      "     XII:\tDiseases of the skin and subcutaneous tissue\n",
      " G10-G14:\tSystemic atrophies primarily affecting the central nervous system\n",
      "     C00:\tMalignant neoplasm of lip\n",
      "   H60.1:\tCellulitis of external ear\n"
     ]
    }
   ],
   "source": [
    "print(\"     XII:\\t\"+icd.get_description(\"XII\"))\n",
    "print(\" G10-G14:\\t\"+icd.get_description(\"G10-G14\"))\n",
    "print(\"     C00:\\t\"+icd.get_description(\"C00\"))\n",
    "print(\"   H60.1:\\t\"+icd.get_description(\"H60.1\"))"
   ]
  },
  {
   "cell_type": "markdown",
   "metadata": {},
   "source": [
    "We can get all the descendants of a code by using `icd.get_descendants`. While the results are usually ordered, this isn't always the case."
   ]
  },
  {
   "cell_type": "code",
   "execution_count": 6,
   "metadata": {},
   "outputs": [
    {
     "name": "stdout",
     "output_type": "stream",
     "text": [
      "XII:\n",
      "['XII', 'L00-L08', 'L00', 'L01', 'L010', 'L011', 'L02', 'L020', 'L021', 'L022', 'L023', 'L024', 'L028', 'L029', 'L03', 'L030', 'L031', 'L032', 'L033', 'L038', 'L039', 'L04', 'L040', 'L041', 'L042', 'L043', 'L048', 'L049', 'L05', 'L050', 'L059', 'L08', 'L080', 'L081', 'L088', 'L089', 'L10-L14', 'L10', 'L100', 'L101', 'L102', 'L103', 'L104', 'L105', 'L108', 'L109', 'L11', 'L110', 'L111', 'L118', 'L119', 'L12', 'L120', 'L121', 'L122', 'L123', 'L128', 'L129', 'L13', 'L130', 'L131', 'L138', 'L139', 'L14', 'L20-L30', 'L20', 'L200', 'L208', 'L209', 'L21', 'L210', 'L211', 'L218', 'L219', 'L22', 'L23', 'L230', 'L231', 'L232', 'L233', 'L234', 'L235', 'L236', 'L237', 'L238', 'L239', 'L24', 'L240', 'L241', 'L242', 'L243', 'L244', 'L245', 'L246', 'L247', 'L248', 'L249', 'L25', 'L250', 'L251', 'L252', 'L253', 'L254', 'L255', 'L258', 'L259', 'L26', 'L27', 'L270', 'L271', 'L272', 'L278', 'L279', 'L28', 'L280', 'L281', 'L282', 'L29', 'L290', 'L291', 'L292', 'L293', 'L298', 'L299', 'L30', 'L300', 'L301', 'L302', 'L303', 'L304', 'L305', 'L308', 'L309', 'L40-L45', 'L40', 'L400', 'L401', 'L402', 'L403', 'L404', 'L405', 'L408', 'L409', 'L41', 'L410', 'L411', 'L413', 'L414', 'L415', 'L418', 'L419', 'L42', 'L43', 'L430', 'L431', 'L432', 'L433', 'L438', 'L439', 'L44', 'L440', 'L441', 'L442', 'L443', 'L444', 'L448', 'L449', 'L45', 'L50-L54', 'L50', 'L500', 'L501', 'L502', 'L503', 'L504', 'L505', 'L506', 'L508', 'L509', 'L51', 'L510', 'L511', 'L512', 'L518', 'L519', 'L52', 'L53', 'L530', 'L531', 'L532', 'L533', 'L538', 'L539', 'L54', 'L540', 'L548', 'L55-L59', 'L55', 'L550', 'L551', 'L552', 'L558', 'L559', 'L56', 'L560', 'L561', 'L562', 'L563', 'L564', 'L568', 'L569', 'L57', 'L570', 'L571', 'L572', 'L573', 'L574', 'L575', 'L578', 'L579', 'L58', 'L580', 'L581', 'L589', 'L59', 'L590', 'L598', 'L599', 'L60-L75', 'L60', 'L600', 'L601', 'L602', 'L603', 'L604', 'L605', 'L608', 'L609', 'L62', 'L620', 'L628', 'L63', 'L630', 'L631', 'L632', 'L638', 'L639', 'L64', 'L640', 'L648', 'L649', 'L65', 'L650', 'L651', 'L652', 'L658', 'L659', 'L66', 'L660', 'L661', 'L662', 'L663', 'L664', 'L668', 'L669', 'L67', 'L670', 'L671', 'L678', 'L679', 'L68', 'L680', 'L681', 'L682', 'L683', 'L688', 'L689', 'L70', 'L700', 'L701', 'L702', 'L703', 'L704', 'L705', 'L708', 'L709', 'L71', 'L710', 'L711', 'L718', 'L719', 'L72', 'L720', 'L721', 'L722', 'L728', 'L729', 'L73', 'L730', 'L731', 'L732', 'L738', 'L739', 'L74', 'L740', 'L741', 'L742', 'L743', 'L744', 'L748', 'L749', 'L75', 'L750', 'L751', 'L752', 'L758', 'L759', 'L80-L99', 'L80', 'L81', 'L810', 'L811', 'L812', 'L813', 'L814', 'L815', 'L816', 'L817', 'L818', 'L819', 'L82', 'L83', 'L84', 'L85', 'L850', 'L851', 'L852', 'L853', 'L858', 'L859', 'L86', 'L87', 'L870', 'L871', 'L872', 'L878', 'L879', 'L88', 'L89', 'L890', 'L891', 'L892', 'L893', 'L899', 'L90', 'L900', 'L901', 'L902', 'L903', 'L904', 'L905', 'L906', 'L908', 'L909', 'L91', 'L910', 'L918', 'L919', 'L92', 'L920', 'L921', 'L922', 'L923', 'L928', 'L929', 'L93', 'L930', 'L931', 'L932', 'L94', 'L940', 'L941', 'L942', 'L943', 'L944', 'L945', 'L946', 'L948', 'L949', 'L95', 'L950', 'L951', 'L958', 'L959', 'L97', 'L98', 'L980', 'L981', 'L982', 'L983', 'L984', 'L985', 'L986', 'L987', 'L988', 'L989', 'L99', 'L990', 'L998']\n",
      "\n",
      "G10-G14:\n",
      "['G10', 'G11', 'G110', 'G111', 'G112', 'G113', 'G114', 'G118', 'G119', 'G12', 'G120', 'G121', 'G122', 'G128', 'G129', 'G13', 'G130', 'G131', 'G132', 'G138', 'G14']\n",
      "\n",
      "C00:\n",
      "['C00-C97', 'C00-C75', 'C00-C14', 'C000', 'C001', 'C002', 'C003', 'C004', 'C005', 'C006', 'C008', 'C009']\n",
      "\n",
      "H60.1:\n",
      "[]\n",
      "\n"
     ]
    }
   ],
   "source": [
    "print(\"XII:\\n\"+str(icd.get_descendants(\"XII\"))+\"\\n\")\n",
    "print(\"G10-G14:\\n\"+str(icd.get_descendants(\"G10-G14\"))+\"\\n\")\n",
    "print(\"C00:\\n\"+str(icd.get_descendants(\"C00\"))+\"\\n\")\n",
    "print(\"H60.1:\\n\"+str(icd.get_descendants(\"H60.1\"))+\"\\n\")"
   ]
  },
  {
   "cell_type": "markdown",
   "metadata": {},
   "source": [
    "With `icd.get_ancestors` we can get all the ancestors of a code, ordered from the parent to the root (which will be the chapter)."
   ]
  },
  {
   "cell_type": "code",
   "execution_count": 7,
   "metadata": {},
   "outputs": [
    {
     "name": "stdout",
     "output_type": "stream",
     "text": [
      "XII:\n",
      "[]\n",
      "\n",
      "G10-G14:\n",
      "['VI']\n",
      "\n",
      "C00:\n",
      "['C00-C14', 'C00-C75', 'C00-C97', 'II']\n",
      "\n",
      "H60.1:\n",
      "['H60', 'H60-H62', 'VIII']\n",
      "\n"
     ]
    }
   ],
   "source": [
    "print(\"XII:\\n\"+str(icd.get_ancestors(\"XII\"))+\"\\n\")\n",
    "print(\"G10-G14:\\n\"+str(icd.get_ancestors(\"G10-G14\"))+\"\\n\")\n",
    "print(\"C00:\\n\"+str(icd.get_ancestors(\"C00\"))+\"\\n\")\n",
    "print(\"H60.1:\\n\"+str(icd.get_ancestors(\"H60.1\"))+\"\\n\")"
   ]
  },
  {
   "cell_type": "markdown",
   "metadata": {},
   "source": [
    "We can use `icd.is_descendant` to check wether a code is a descentants of another code and `icd.is_ancestor` to check wether a node is an ancestor of another code. Notice how these two functions behave the same when their parameters are switched."
   ]
  },
  {
   "cell_type": "code",
   "execution_count": 8,
   "metadata": {},
   "outputs": [
    {
     "name": "stdout",
     "output_type": "stream",
     "text": [
      "H60.1 and H60-H62:\n",
      "icd.is_descendant(\"H60.1\",\"H60-H62\"):\tTrue\n",
      "icd.is_ancestor(\"H60.1\",\"H60-H62\"):\tFalse\n",
      "\n",
      "H60-H62 and H60.1:\n",
      "icd.is_descendant(\"H60-H62\",\"H60.1\"):\tFalse\n",
      "icd.is_ancestor(\"H60-H62\",\"H60.1\"):\tTrue\n",
      "\n"
     ]
    }
   ],
   "source": [
    "print(\"H60.1 and H60-H62:\")\n",
    "print(\"icd.is_descendant(\\\"H60.1\\\",\\\"H60-H62\\\"):\\t\"+str(icd.is_descendant(\"H60.1\",\"H60-H62\")))\n",
    "print(\"icd.is_ancestor(\\\"H60.1\\\",\\\"H60-H62\\\"):\\t\"+str(icd.is_ancestor(\"H60.1\",\"H60-H62\"))+\"\\n\")\n",
    "\n",
    "print(\"H60-H62 and H60.1:\")\n",
    "print(\"icd.is_descendant(\\\"H60-H62\\\",\\\"H60.1\\\"):\\t\"+str(icd.is_descendant(\"H60-H62\",\"H60.1\")))\n",
    "print(\"icd.is_ancestor(\\\"H60-H62\\\",\\\"H60.1\\\"):\\t\"+str(icd.is_ancestor(\"H60-H62\",\"H60.1\"))+\"\\n\")"
   ]
  },
  {
   "cell_type": "markdown",
   "metadata": {},
   "source": [
    "A code is never its own ancestor or descendant:"
   ]
  },
  {
   "cell_type": "code",
   "execution_count": 9,
   "metadata": {},
   "outputs": [
    {
     "name": "stdout",
     "output_type": "stream",
     "text": [
      "E15-E16 and E15-E16:\n",
      "icd.is_descendant(\"E15-E16\",\"E15-E16\"):\tFalse\n",
      "icd.is_ancestor(\"E15-E16\",\"E15-E16\"):\tFalse\n",
      "\n"
     ]
    }
   ],
   "source": [
    "print(\"E15-E16 and E15-E16:\")\n",
    "print(\"icd.is_descendant(\\\"E15-E16\\\",\\\"E15-E16\\\"):\\t\"+str(icd.is_descendant(\"E15-E16\",\"E15-E16\")))\n",
    "print(\"icd.is_ancestor(\\\"E15-E16\\\",\\\"E15-E16\\\"):\\t\"+str(icd.is_ancestor(\"E15-E16\",\"E15-E16\"))+\"\\n\")"
   ]
  },
  {
   "cell_type": "markdown",
   "metadata": {},
   "source": [
    "If we need, for some reason, the list of all the codes, we can get it by using `icd.get_all_codes`. By passing `True` to this function, the codes returned will be in the format with the dots, by passing `False` to it, the codes will be in the format without dots."
   ]
  },
  {
   "cell_type": "code",
   "execution_count": 10,
   "metadata": {},
   "outputs": [
    {
     "data": {
      "text/plain": [
       "['I',\n",
       " 'A00-A09',\n",
       " 'A00',\n",
       " 'A00.0',\n",
       " 'A00.1',\n",
       " 'A00.9',\n",
       " 'A01',\n",
       " 'A01.0',\n",
       " 'A01.1',\n",
       " 'A01.2',\n",
       " 'A01.3',\n",
       " 'A01.4',\n",
       " 'A02',\n",
       " 'A02.0',\n",
       " 'A02.1']"
      ]
     },
     "execution_count": 10,
     "metadata": {},
     "output_type": "execute_result"
    }
   ],
   "source": [
    "icd.get_all_codes(True)[:15]"
   ]
  },
  {
   "cell_type": "code",
   "execution_count": 11,
   "metadata": {},
   "outputs": [
    {
     "data": {
      "text/plain": [
       "['I',\n",
       " 'A00-A09',\n",
       " 'A00',\n",
       " 'A000',\n",
       " 'A001',\n",
       " 'A009',\n",
       " 'A01',\n",
       " 'A010',\n",
       " 'A011',\n",
       " 'A012',\n",
       " 'A013',\n",
       " 'A014',\n",
       " 'A02',\n",
       " 'A020',\n",
       " 'A021']"
      ]
     },
     "execution_count": 11,
     "metadata": {},
     "output_type": "execute_result"
    }
   ],
   "source": [
    "icd.get_all_codes(False)[:15]"
   ]
  },
  {
   "cell_type": "markdown",
   "metadata": {},
   "source": [
    "From here, it's really easy to only keep the codes for categories and subcategories, if we only want those."
   ]
  },
  {
   "cell_type": "code",
   "execution_count": 12,
   "metadata": {},
   "outputs": [
    {
     "data": {
      "text/plain": [
       "['A00',\n",
       " 'A000',\n",
       " 'A001',\n",
       " 'A009',\n",
       " 'A01',\n",
       " 'A010',\n",
       " 'A011',\n",
       " 'A012',\n",
       " 'A013',\n",
       " 'A014',\n",
       " 'A02',\n",
       " 'A020',\n",
       " 'A021',\n",
       " 'A022',\n",
       " 'A028']"
      ]
     },
     "execution_count": 12,
     "metadata": {},
     "output_type": "execute_result"
    }
   ],
   "source": [
    "[code for code in icd.get_all_codes(False) if not icd.is_chapter_or_block(code)][:15]"
   ]
  },
  {
   "cell_type": "markdown",
   "metadata": {},
   "source": [
    "We can use `icd.get_index` to get the index of a code in the list returned by `icd.get_all_codes`."
   ]
  },
  {
   "cell_type": "code",
   "execution_count": 13,
   "metadata": {},
   "outputs": [
    {
     "data": {
      "text/plain": [
       "7159"
      ]
     },
     "execution_count": 13,
     "metadata": {},
     "output_type": "execute_result"
    }
   ],
   "source": [
    "icd.get_index(\"P00\")"
   ]
  },
  {
   "cell_type": "code",
   "execution_count": 14,
   "metadata": {},
   "outputs": [
    {
     "data": {
      "text/plain": [
       "'P00'"
      ]
     },
     "execution_count": 14,
     "metadata": {},
     "output_type": "execute_result"
    }
   ],
   "source": [
    "icd.get_all_codes(True)[7159]"
   ]
  },
  {
   "cell_type": "code",
   "execution_count": 15,
   "metadata": {},
   "outputs": [
    {
     "data": {
      "text/plain": [
       "'Fetus and newborn affected by maternal conditions that may be unrelated to present pregnancy'"
      ]
     },
     "execution_count": 15,
     "metadata": {},
     "output_type": "execute_result"
    }
   ],
   "source": [
    "icd.get_description(icd.get_all_codes(True)[7159])"
   ]
  }
 ],
 "metadata": {
  "kernelspec": {
   "display_name": "Python 3",
   "language": "python",
   "name": "python3"
  },
  "language_info": {
   "codemirror_mode": {
    "name": "ipython",
    "version": 3
   },
   "file_extension": ".py",
   "mimetype": "text/x-python",
   "name": "python",
   "nbconvert_exporter": "python",
   "pygments_lexer": "ipython3",
   "version": "3.8.5"
  }
 },
 "nbformat": 4,
 "nbformat_minor": 4
}
